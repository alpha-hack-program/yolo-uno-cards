{
 "cells": [
  {
   "cell_type": "code",
   "execution_count": 1,
   "id": "8f587130-ea99-4680-b4e5-392d63d22788",
   "metadata": {},
   "outputs": [],
   "source": [
    "%load_ext autoreload\n",
    "%autoreload 2    "
   ]
  },
  {
   "cell_type": "code",
   "execution_count": 6,
   "id": "50d6315b-22fc-4d3b-b7a6-8e274d30ceed",
   "metadata": {},
   "outputs": [],
   "source": [
    "import sys\n",
    "import os\n",
    "\n",
    "# Añadir el path raíz del proyecto manualmente\n",
    "sys.path.append(os.path.abspath(\"components\"))  # desde pipeline"
   ]
  },
  {
   "cell_type": "code",
   "execution_count": 7,
   "id": "42cff323-1778-424f-b0a0-e29c44b0fd5e",
   "metadata": {},
   "outputs": [],
   "source": [
    "from components.train_yolo.src.train_yolo import train_yolo_impl"
   ]
  },
  {
   "cell_type": "code",
   "execution_count": 8,
   "id": "3617c66d-1f1e-4b1d-9e43-1916659104c6",
   "metadata": {},
   "outputs": [],
   "source": [
    "model_name = \"yolov8n\"\n",
    "image_size = 640\n",
    "epochs = 2 \n",
    "batch_size = 2,\n",
    "optimizer = \"Adam\"\n",
    "learning_rate = 0.001\n",
    "momentum = 0.937\n",
    "weight_decay = 0.0005\n",
    "confidence_threshold = 0.001\n",
    "iou_threshold = 0.7\n",
    "label_smoothing = 0.1\n",
    "experiment_name = \"uno-cards-v1.2-0\"\n",
    "run_name = \"uno-cards\"\n",
    "tracking_uri = \"http://mlflow-server:8080\"\n",
    "images_dataset_name = \"uno-cards-v1.2\"\n",
    "images_datasets_root_folder = \"datasets\"\n",
    "images_dataset_yaml = \"data.yaml\"\n",
    "models_root_folder = \"models\"\n",
    "root_mount_path = \"/opt/app/src\""
   ]
  },
  {
   "cell_type": "code",
   "execution_count": 9,
   "id": "ccf58b23-65a0-469d-92ee-38846f58babb",
   "metadata": {},
   "outputs": [
    {
     "name": "stdout",
     "output_type": "stream",
     "text": [
      "DATASETS S3: endpoint_url None\n",
      "DATASETS S3: bucket_name None\n",
      "DATASETS S3: images_dataset_s3_key None\n",
      "MODELS S3: endpoint_url None\n",
      "MODELS S3: bucket_name None\n",
      "MODELS S3: images_dataset_s3_key None\n",
      "tracking_uri http://mlflow-server:8080\n",
      "experiment_name uno-cards-v1.2-0\n",
      "images_dataset_name uno-cards-v1.2\n",
      "images_datasets_root_folder datasets\n",
      "images_dataset_yaml data.yaml\n",
      "models_root_folder models\n",
      "root_mount_path /opt/app/src\n"
     ]
    },
    {
     "ename": "ValueError",
     "evalue": "Root mount path '/opt/app/src' does not exist",
     "output_type": "error",
     "traceback": [
      "\u001b[0;31m---------------------------------------------------------------------------\u001b[0m",
      "\u001b[0;31mValueError\u001b[0m                                Traceback (most recent call last)",
      "Cell \u001b[0;32mIn[9], line 2\u001b[0m\n\u001b[1;32m      1\u001b[0m \u001b[38;5;66;03m# Train the model\u001b[39;00m\n\u001b[0;32m----> 2\u001b[0m train_model_task \u001b[38;5;241m=\u001b[39m \u001b[43mtrain_yolo_impl\u001b[49m\u001b[43m(\u001b[49m\n\u001b[1;32m      3\u001b[0m \u001b[43m    \u001b[49m\u001b[43mmodel_name\u001b[49m\u001b[38;5;241;43m=\u001b[39;49m\u001b[43mmodel_name\u001b[49m\u001b[43m,\u001b[49m\u001b[43m \u001b[49m\n\u001b[1;32m      4\u001b[0m \u001b[43m    \u001b[49m\u001b[43mimage_size\u001b[49m\u001b[38;5;241;43m=\u001b[39;49m\u001b[43mimage_size\u001b[49m\u001b[43m,\u001b[49m\u001b[43m \u001b[49m\n\u001b[1;32m      5\u001b[0m \u001b[43m    \u001b[49m\u001b[43mepochs\u001b[49m\u001b[38;5;241;43m=\u001b[39;49m\u001b[43mepochs\u001b[49m\u001b[43m,\u001b[49m\n\u001b[1;32m      6\u001b[0m \u001b[43m    \u001b[49m\u001b[43mbatch_size\u001b[49m\u001b[38;5;241;43m=\u001b[39;49m\u001b[43mbatch_size\u001b[49m\u001b[43m,\u001b[49m\n\u001b[1;32m      7\u001b[0m \u001b[43m    \u001b[49m\u001b[43moptimizer\u001b[49m\u001b[38;5;241;43m=\u001b[39;49m\u001b[43moptimizer\u001b[49m\u001b[43m,\u001b[49m\n\u001b[1;32m      8\u001b[0m \u001b[43m    \u001b[49m\u001b[43mlearning_rate\u001b[49m\u001b[38;5;241;43m=\u001b[39;49m\u001b[43mlearning_rate\u001b[49m\u001b[43m,\u001b[49m\n\u001b[1;32m      9\u001b[0m \u001b[43m    \u001b[49m\u001b[43mmomentum\u001b[49m\u001b[38;5;241;43m=\u001b[39;49m\u001b[43mmomentum\u001b[49m\u001b[43m,\u001b[49m\n\u001b[1;32m     10\u001b[0m \u001b[43m    \u001b[49m\u001b[43mweight_decay\u001b[49m\u001b[38;5;241;43m=\u001b[39;49m\u001b[43mweight_decay\u001b[49m\u001b[43m,\u001b[49m\n\u001b[1;32m     11\u001b[0m \u001b[43m    \u001b[49m\u001b[43mconfidence_threshold\u001b[49m\u001b[38;5;241;43m=\u001b[39;49m\u001b[43mconfidence_threshold\u001b[49m\u001b[43m,\u001b[49m\n\u001b[1;32m     12\u001b[0m \u001b[43m    \u001b[49m\u001b[43miou_threshold\u001b[49m\u001b[38;5;241;43m=\u001b[39;49m\u001b[43miou_threshold\u001b[49m\u001b[43m,\u001b[49m\n\u001b[1;32m     13\u001b[0m \u001b[43m    \u001b[49m\u001b[43mlabel_smoothing\u001b[49m\u001b[38;5;241;43m=\u001b[39;49m\u001b[43mlabel_smoothing\u001b[49m\u001b[43m,\u001b[49m\n\u001b[1;32m     14\u001b[0m \u001b[43m    \u001b[49m\u001b[43mexperiment_name\u001b[49m\u001b[38;5;241;43m=\u001b[39;49m\u001b[43mexperiment_name\u001b[49m\u001b[43m,\u001b[49m\n\u001b[1;32m     15\u001b[0m \u001b[43m    \u001b[49m\u001b[43mrun_name\u001b[49m\u001b[38;5;241;43m=\u001b[39;49m\u001b[43mrun_name\u001b[49m\u001b[43m,\u001b[49m\n\u001b[1;32m     16\u001b[0m \u001b[43m    \u001b[49m\u001b[43mtracking_uri\u001b[49m\u001b[38;5;241;43m=\u001b[39;49m\u001b[43mtracking_uri\u001b[49m\u001b[43m,\u001b[49m\n\u001b[1;32m     17\u001b[0m \u001b[43m    \u001b[49m\u001b[43mroot_mount_path\u001b[49m\u001b[38;5;241;43m=\u001b[39;49m\u001b[43mroot_mount_path\u001b[49m\u001b[43m,\u001b[49m\n\u001b[1;32m     18\u001b[0m \u001b[43m    \u001b[49m\u001b[43mimages_dataset_name\u001b[49m\u001b[38;5;241;43m=\u001b[39;49m\u001b[43mimages_dataset_name\u001b[49m\u001b[43m,\u001b[49m\n\u001b[1;32m     19\u001b[0m \u001b[43m    \u001b[49m\u001b[43mimages_datasets_root_folder\u001b[49m\u001b[38;5;241;43m=\u001b[39;49m\u001b[43mimages_datasets_root_folder\u001b[49m\u001b[43m,\u001b[49m\n\u001b[1;32m     20\u001b[0m \u001b[43m    \u001b[49m\u001b[43mimages_dataset_yaml\u001b[49m\u001b[38;5;241;43m=\u001b[39;49m\u001b[43mimages_dataset_yaml\u001b[49m\u001b[43m,\u001b[49m\n\u001b[1;32m     21\u001b[0m \u001b[43m    \u001b[49m\u001b[43mmodels_root_folder\u001b[49m\u001b[38;5;241;43m=\u001b[39;49m\u001b[43mmodels_root_folder\u001b[49m\n\u001b[1;32m     22\u001b[0m \u001b[43m)\u001b[49m\n",
      "File \u001b[0;32m~/yolo-uno-cards/pipeline/components/train_yolo/src/train_yolo.py:130\u001b[0m, in \u001b[0;36mtrain_yolo_impl\u001b[0;34m(model_name, image_size, epochs, batch_size, optimizer, learning_rate, momentum, weight_decay, confidence_threshold, iou_threshold, label_smoothing, experiment_name, run_name, tracking_uri, root_mount_path, images_dataset_name, images_datasets_root_folder, images_dataset_yaml, models_root_folder)\u001b[0m\n\u001b[1;32m    128\u001b[0m \u001b[38;5;66;03m# If root_mount_path is not set or doesn't exist, raise a ValueError\u001b[39;00m\n\u001b[1;32m    129\u001b[0m \u001b[38;5;28;01mif\u001b[39;00m \u001b[38;5;129;01mnot\u001b[39;00m root_mount_path \u001b[38;5;129;01mor\u001b[39;00m \u001b[38;5;129;01mnot\u001b[39;00m os\u001b[38;5;241m.\u001b[39mpath\u001b[38;5;241m.\u001b[39mexists(root_mount_path):\n\u001b[0;32m--> 130\u001b[0m     \u001b[38;5;28;01mraise\u001b[39;00m \u001b[38;5;167;01mValueError\u001b[39;00m(\u001b[38;5;124mf\u001b[39m\u001b[38;5;124m\"\u001b[39m\u001b[38;5;124mRoot mount path \u001b[39m\u001b[38;5;124m'\u001b[39m\u001b[38;5;132;01m{\u001b[39;00mroot_mount_path\u001b[38;5;132;01m}\u001b[39;00m\u001b[38;5;124m'\u001b[39m\u001b[38;5;124m does not exist\u001b[39m\u001b[38;5;124m\"\u001b[39m)\n\u001b[1;32m    132\u001b[0m \u001b[38;5;66;03m# Set the images dataset folder\u001b[39;00m\n\u001b[1;32m    133\u001b[0m images_dataset_folder \u001b[38;5;241m=\u001b[39m os\u001b[38;5;241m.\u001b[39mpath\u001b[38;5;241m.\u001b[39mjoin(root_mount_path, images_datasets_root_folder, images_dataset_name)\n",
      "\u001b[0;31mValueError\u001b[0m: Root mount path '/opt/app/src' does not exist"
     ]
    }
   ],
   "source": [
    "# Train the model\n",
    "train_model_task = train_yolo_impl(\n",
    "    model_name=model_name, \n",
    "    image_size=image_size, \n",
    "    epochs=epochs,\n",
    "    batch_size=batch_size,\n",
    "    optimizer=optimizer,\n",
    "    learning_rate=learning_rate,\n",
    "    momentum=momentum,\n",
    "    weight_decay=weight_decay,\n",
    "    confidence_threshold=confidence_threshold,\n",
    "    iou_threshold=iou_threshold,\n",
    "    label_smoothing=label_smoothing,\n",
    "    experiment_name=experiment_name,\n",
    "    run_name=run_name,\n",
    "    tracking_uri=tracking_uri,\n",
    "    root_mount_path=root_mount_path,\n",
    "    images_dataset_name=images_dataset_name,\n",
    "    images_datasets_root_folder=images_datasets_root_folder,\n",
    "    images_dataset_yaml=images_dataset_yaml,\n",
    "    models_root_folder=models_root_folder\n",
    ")"
   ]
  }
 ],
 "metadata": {
  "kernelspec": {
   "display_name": "Python 3.11",
   "language": "python",
   "name": "python3"
  },
  "language_info": {
   "codemirror_mode": {
    "name": "ipython",
    "version": 3
   },
   "file_extension": ".py",
   "mimetype": "text/x-python",
   "name": "python",
   "nbconvert_exporter": "python",
   "pygments_lexer": "ipython3",
   "version": "3.11.9"
  }
 },
 "nbformat": 4,
 "nbformat_minor": 5
}
